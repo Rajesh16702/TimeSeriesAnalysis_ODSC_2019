{
  "nbformat": 4,
  "nbformat_minor": 0,
  "metadata": {
    "kernelspec": {
      "display_name": "Python 3",
      "language": "python",
      "name": "python3"
    },
    "language_info": {
      "codemirror_mode": {
        "name": "ipython",
        "version": 3
      },
      "file_extension": ".py",
      "mimetype": "text/x-python",
      "name": "python",
      "nbconvert_exporter": "python",
      "pygments_lexer": "ipython3",
      "version": "3.7.1"
    },
    "colab": {
      "name": "04. ARIMA Models.ipynb",
      "version": "0.3.2",
      "provenance": []
    }
  },
  "cells": [
    {
      "cell_type": "markdown",
      "metadata": {
        "id": "OrSdVdoeGhq0",
        "colab_type": "text"
      },
      "source": [
        "## Imports"
      ]
    },
    {
      "cell_type": "code",
      "metadata": {
        "id": "2bJT4wIsGhq4",
        "colab_type": "code",
        "colab": {}
      },
      "source": [
        "import pandas as pd\n",
        "import numpy as np\n",
        "import matplotlib.pyplot as plt\n",
        "%matplotlib inline\n",
        "plt.rcParams[\"figure.figsize\"] = (20,8)\n",
        "import warnings\n",
        "warnings.filterwarnings(\"ignore\")\n",
        "colab_path = \"https://github.com/poornagurram/TimeSeriesAnalysis_ODSC_2019/blob/master/\""
      ],
      "execution_count": 0,
      "outputs": []
    },
    {
      "cell_type": "markdown",
      "metadata": {
        "id": "2JBjgaLuGhq-",
        "colab_type": "text"
      },
      "source": [
        "## ARIMA Models"
      ]
    },
    {
      "cell_type": "code",
      "metadata": {
        "id": "ib_UpU6TGhq_",
        "colab_type": "code",
        "colab": {}
      },
      "source": [
        "from statsmodels.tsa.arima_model import ARIMA"
      ],
      "execution_count": 0,
      "outputs": []
    },
    {
      "cell_type": "code",
      "metadata": {
        "id": "WvLLd7NAGhrD",
        "colab_type": "code",
        "colab": {}
      },
      "source": [
        "ARIMA?"
      ],
      "execution_count": 0,
      "outputs": []
    },
    {
      "cell_type": "code",
      "metadata": {
        "id": "lXSy84QIGhrI",
        "colab_type": "code",
        "colab": {}
      },
      "source": [
        "df = pd.read_csv(colab_path+'data/sales.csv', parse_dates=True, index_col=0)"
      ],
      "execution_count": 0,
      "outputs": []
    },
    {
      "cell_type": "code",
      "metadata": {
        "id": "zk_mUUKoGhrZ",
        "colab_type": "code",
        "colab": {}
      },
      "source": [
        "from sklearn.metrics import mean_squared_error\n",
        "from math import sqrt\n",
        "\n",
        "def evaluate_modelperf(data, arima_order):\n",
        "    train_size = int(len(data) * 0.66)\n",
        "    train, test = data[:train_size], data[train_size:]\n",
        "    history = [x for x in train]\n",
        "    \n",
        "\n",
        "    predictions = list()\n",
        "    for t in range(len(test)):\n",
        "        model = ARIMA(history, order=arima_order)\n",
        "        try:\n",
        "            res = model.fit(disp=0)\n",
        "            \n",
        "            pred = res.forecast()[0]\n",
        "\n",
        "            predictions.append(pred)\n",
        "            history.append(test[t])\n",
        "        except:\n",
        "            return None\n",
        "\n",
        "    try:\n",
        "        rmse = sqrt(mean_squared_error(test, predictions))\n",
        "        return rmse\n",
        "    except:\n",
        "        print('Error encountered in RMSE calc')\n",
        "    return None"
      ],
      "execution_count": 0,
      "outputs": []
    },
    {
      "cell_type": "code",
      "metadata": {
        "id": "_q_6L1HwGhrc",
        "colab_type": "code",
        "colab": {}
      },
      "source": [
        "data= df['Sales'].values\n",
        "data = data.astype('float32')"
      ],
      "execution_count": 0,
      "outputs": []
    },
    {
      "cell_type": "code",
      "metadata": {
        "id": "jFX2bH9CGhre",
        "colab_type": "code",
        "colab": {}
      },
      "source": [
        "evaluate_modelperf(data, (1, 1, 0))"
      ],
      "execution_count": 0,
      "outputs": []
    },
    {
      "cell_type": "code",
      "metadata": {
        "id": "t8RxhoMGGhrg",
        "colab_type": "code",
        "colab": {}
      },
      "source": [
        "p_values = [0, 1, 2, 4, 6, 8, 10]\n",
        "d_values = [0, 1, 2]\n",
        "q_values = [0, 1, 2]"
      ],
      "execution_count": 0,
      "outputs": []
    },
    {
      "cell_type": "code",
      "metadata": {
        "id": "ADqyS9muGhrj",
        "colab_type": "code",
        "colab": {}
      },
      "source": [
        "import itertools\n",
        "combinations = list(itertools.product(*[p_values, d_values, q_values]))"
      ],
      "execution_count": 0,
      "outputs": []
    },
    {
      "cell_type": "code",
      "metadata": {
        "id": "9IloTFy5Ghrn",
        "colab_type": "code",
        "colab": {}
      },
      "source": [
        "best, low_rmse = None, None\n",
        "for order in combinations:\n",
        "    rmse = evaluate_modelperf(data, order)\n",
        "    if rmse is not None:\n",
        "        print(f'RMSE for order: {order} = {rmse}')\n",
        "        best, low_rmse = (order, rmse) if low_rmse is None or rmse < low_rmse else (best, low_rmse)\n",
        "    else:\n",
        "        print(f'Error encountered for order:{order}')\n",
        "\n",
        "print(f'Best Order: {best}.  Low RMSE: {low_rmse}')\n"
      ],
      "execution_count": 0,
      "outputs": []
    },
    {
      "cell_type": "markdown",
      "metadata": {
        "id": "qxkx3CInGhrp",
        "colab_type": "text"
      },
      "source": [
        "## Exercise\n",
        "\n",
        "    - Try the same with the 'data/daily_female_births.csv' file"
      ]
    },
    {
      "cell_type": "code",
      "metadata": {
        "id": "Tma9T-sYGhrq",
        "colab_type": "code",
        "colab": {}
      },
      "source": [
        "df = pd.read_csv(colab_path+'data/daily_female_births.csv', parse_dates=True, index_col=0)"
      ],
      "execution_count": 0,
      "outputs": []
    },
    {
      "cell_type": "code",
      "metadata": {
        "id": "1nayFHOGGhru",
        "colab_type": "code",
        "colab": {}
      },
      "source": [
        "data= df['Births'].values\n",
        "data = data.astype('float32')"
      ],
      "execution_count": 0,
      "outputs": []
    },
    {
      "cell_type": "code",
      "metadata": {
        "id": "yqrLbDZBGhrv",
        "colab_type": "code",
        "colab": {}
      },
      "source": [
        ""
      ],
      "execution_count": 0,
      "outputs": []
    },
    {
      "cell_type": "code",
      "metadata": {
        "id": "SvbXHwxyGhry",
        "colab_type": "code",
        "colab": {}
      },
      "source": [
        ""
      ],
      "execution_count": 0,
      "outputs": []
    }
  ]
}