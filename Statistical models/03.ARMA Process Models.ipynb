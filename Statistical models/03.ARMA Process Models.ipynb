{
  "nbformat": 4,
  "nbformat_minor": 0,
  "metadata": {
    "kernelspec": {
      "display_name": "Python 3",
      "language": "python",
      "name": "python3"
    },
    "language_info": {
      "codemirror_mode": {
        "name": "ipython",
        "version": 3
      },
      "file_extension": ".py",
      "mimetype": "text/x-python",
      "name": "python",
      "nbconvert_exporter": "python",
      "pygments_lexer": "ipython3",
      "version": "3.7.1"
    },
    "colab": {
      "name": "03.ARMA Process Models.ipynb",
      "version": "0.3.2",
      "provenance": []
    }
  },
  "cells": [
    {
      "cell_type": "code",
      "metadata": {
        "id": "xgOIlFrwqzZn",
        "colab_type": "code",
        "colab": {}
      },
      "source": [
        "import pandas as pd\n",
        "import numpy as np\n",
        "import matplotlib.pyplot as plt\n",
        "plt.rcParams[\"figure.figsize\"] = (20,10)"
      ],
      "execution_count": 0,
      "outputs": []
    },
    {
      "cell_type": "markdown",
      "metadata": {
        "id": "vxgtRPp1qzZu",
        "colab_type": "text"
      },
      "source": [
        "## AR Models\n",
        "\n",
        "X(t) = phi * X(t-1) + epsilon  "
      ]
    },
    {
      "cell_type": "code",
      "metadata": {
        "id": "CTs297buqzZv",
        "colab_type": "code",
        "colab": {}
      },
      "source": [
        "from statsmodels.tsa.arima_process import ArmaProcess"
      ],
      "execution_count": 0,
      "outputs": []
    },
    {
      "cell_type": "code",
      "metadata": {
        "id": "BC5TDYDIqzZy",
        "colab_type": "code",
        "colab": {}
      },
      "source": [
        "ArmaProcess?"
      ],
      "execution_count": 0,
      "outputs": []
    },
    {
      "cell_type": "code",
      "metadata": {
        "id": "dpSBFZzkqzZ1",
        "colab_type": "code",
        "colab": {}
      },
      "source": [
        "ar1 = ArmaProcess(ar=(1, -.9, 0.7, -0.42))"
      ],
      "execution_count": 0,
      "outputs": []
    },
    {
      "cell_type": "code",
      "metadata": {
        "id": "2yiNWFZpqzZ6",
        "colab_type": "code",
        "colab": {}
      },
      "source": [
        "ar1_data = ar1.generate_sample(nsample=1000)"
      ],
      "execution_count": 0,
      "outputs": []
    },
    {
      "cell_type": "code",
      "metadata": {
        "id": "NQXXhZ6YqzZ8",
        "colab_type": "code",
        "colab": {}
      },
      "source": [
        "plt.plot(ar1_data)"
      ],
      "execution_count": 0,
      "outputs": []
    },
    {
      "cell_type": "code",
      "metadata": {
        "id": "-b3iN5owqzaA",
        "colab_type": "code",
        "colab": {}
      },
      "source": [
        "from statsmodels.tsa.stattools import adfuller"
      ],
      "execution_count": 0,
      "outputs": []
    },
    {
      "cell_type": "code",
      "metadata": {
        "id": "BPU7FwenqzaC",
        "colab_type": "code",
        "colab": {}
      },
      "source": [
        "adfuller(ar1_data)"
      ],
      "execution_count": 0,
      "outputs": []
    },
    {
      "cell_type": "code",
      "metadata": {
        "id": "DSXU0-idqzaF",
        "colab_type": "code",
        "colab": {}
      },
      "source": [
        "from statsmodels.tsa.arima_model import ARMA"
      ],
      "execution_count": 0,
      "outputs": []
    },
    {
      "cell_type": "code",
      "metadata": {
        "id": "9UVPvKUKqzaI",
        "colab_type": "code",
        "colab": {}
      },
      "source": [
        "ar_model = ARMA(ar1_data, order=(3,0))"
      ],
      "execution_count": 0,
      "outputs": []
    },
    {
      "cell_type": "code",
      "metadata": {
        "id": "w5SHG3SiqzaM",
        "colab_type": "code",
        "colab": {}
      },
      "source": [
        "res = ar_model.fit()"
      ],
      "execution_count": 0,
      "outputs": []
    },
    {
      "cell_type": "code",
      "metadata": {
        "id": "3Wd8BGvRqzaQ",
        "colab_type": "code",
        "colab": {}
      },
      "source": [
        "res.params"
      ],
      "execution_count": 0,
      "outputs": []
    },
    {
      "cell_type": "code",
      "metadata": {
        "id": "_8NikJENqzaT",
        "colab_type": "code",
        "colab": {}
      },
      "source": [
        "res.k_ar"
      ],
      "execution_count": 0,
      "outputs": []
    },
    {
      "cell_type": "code",
      "metadata": {
        "id": "OLglRPH0qzaV",
        "colab_type": "code",
        "colab": {}
      },
      "source": [
        "print(res.summary())"
      ],
      "execution_count": 0,
      "outputs": []
    },
    {
      "cell_type": "code",
      "metadata": {
        "id": "l1C8jigdqzaX",
        "colab_type": "code",
        "colab": {}
      },
      "source": [
        "plt.plot(ar1_data)\n",
        "plt.plot(res.fittedvalues)\n",
        "plt.show()"
      ],
      "execution_count": 0,
      "outputs": []
    },
    {
      "cell_type": "code",
      "metadata": {
        "id": "rkI9NGrOqzaa",
        "colab_type": "code",
        "colab": {}
      },
      "source": [
        "r = res.predict(start=3, end=1003)"
      ],
      "execution_count": 0,
      "outputs": []
    },
    {
      "cell_type": "code",
      "metadata": {
        "id": "fuHxsE-pqzae",
        "colab_type": "code",
        "colab": {}
      },
      "source": [
        "r"
      ],
      "execution_count": 0,
      "outputs": []
    },
    {
      "cell_type": "code",
      "metadata": {
        "id": "RhHdflraqzah",
        "colab_type": "code",
        "colab": {}
      },
      "source": [
        "# plt.plot(ar1_data)\n",
        "plt.plot(ar1_data)\n",
        "plt.plot(r)\n",
        "plt.show()"
      ],
      "execution_count": 0,
      "outputs": []
    },
    {
      "cell_type": "markdown",
      "metadata": {
        "id": "RcVJZ2vYqzak",
        "colab_type": "text"
      },
      "source": [
        "## MA Models\n",
        "\n",
        "X(T) = MEAN + E + theta1 * E(t-1)"
      ]
    },
    {
      "cell_type": "code",
      "metadata": {
        "id": "LOKNnpzMqzal",
        "colab_type": "code",
        "colab": {}
      },
      "source": [
        "ma1 = ArmaProcess(ma=(1, 0.9))"
      ],
      "execution_count": 0,
      "outputs": []
    },
    {
      "cell_type": "code",
      "metadata": {
        "id": "GA-PrLeXqzap",
        "colab_type": "code",
        "colab": {}
      },
      "source": [
        "ma1_data = ma1.generate_sample(nsample=1000)"
      ],
      "execution_count": 0,
      "outputs": []
    },
    {
      "cell_type": "code",
      "metadata": {
        "id": "QJpNiw8Qqzaw",
        "colab_type": "code",
        "colab": {}
      },
      "source": [
        "ma1_model = ARMA(ma1_data, order=(0,1))"
      ],
      "execution_count": 0,
      "outputs": []
    },
    {
      "cell_type": "code",
      "metadata": {
        "id": "Wdpt6CWwqza4",
        "colab_type": "code",
        "colab": {}
      },
      "source": [
        "res = ma1_model.fit()"
      ],
      "execution_count": 0,
      "outputs": []
    },
    {
      "cell_type": "code",
      "metadata": {
        "id": "KkLnMajMqza8",
        "colab_type": "code",
        "colab": {}
      },
      "source": [
        "res.params"
      ],
      "execution_count": 0,
      "outputs": []
    },
    {
      "cell_type": "code",
      "metadata": {
        "id": "MX8JlQedqzbL",
        "colab_type": "code",
        "colab": {}
      },
      "source": [
        "res.summary()"
      ],
      "execution_count": 0,
      "outputs": []
    },
    {
      "cell_type": "code",
      "metadata": {
        "id": "J_aKi_JrqzbO",
        "colab_type": "code",
        "colab": {}
      },
      "source": [
        "plt.plot(ma1_data)\n",
        "plt.plot(res.fittedvalues)"
      ],
      "execution_count": 0,
      "outputs": []
    },
    {
      "cell_type": "markdown",
      "metadata": {
        "id": "xsFU8a1tqzbQ",
        "colab_type": "text"
      },
      "source": [
        "## ARMA Models"
      ]
    },
    {
      "cell_type": "code",
      "metadata": {
        "id": "_KSWEHngqzbQ",
        "colab_type": "code",
        "colab": {}
      },
      "source": [
        "alphas = np.array([0.5, -0.25])\n",
        "betas = np.array([0.5, -0.3])\n",
        "ar = np.r_[1, -alphas]\n",
        "ma = np.r_[1, betas]\n",
        "ar_ma = ArmaProcess(ar=ar, ma=ma)"
      ],
      "execution_count": 0,
      "outputs": []
    },
    {
      "cell_type": "code",
      "metadata": {
        "id": "1i7BMfo3qzbS",
        "colab_type": "code",
        "colab": {}
      },
      "source": [
        "ar_ma_data = ar_ma.generate_sample(nsample=5000)"
      ],
      "execution_count": 0,
      "outputs": []
    },
    {
      "cell_type": "code",
      "metadata": {
        "id": "elIZGH8PqzbU",
        "colab_type": "code",
        "colab": {}
      },
      "source": [
        "arma_model = ARMA(ar_ma_data, order=(2,2))"
      ],
      "execution_count": 0,
      "outputs": []
    },
    {
      "cell_type": "code",
      "metadata": {
        "id": "M3dTzh7IqzbY",
        "colab_type": "code",
        "colab": {}
      },
      "source": [
        "res = arma_model.fit()"
      ],
      "execution_count": 0,
      "outputs": []
    },
    {
      "cell_type": "code",
      "metadata": {
        "id": "OdHbkzEWqzbb",
        "colab_type": "code",
        "colab": {}
      },
      "source": [
        "res.params"
      ],
      "execution_count": 0,
      "outputs": []
    },
    {
      "cell_type": "code",
      "metadata": {
        "id": "CMDTWqG-qzbd",
        "colab_type": "code",
        "colab": {}
      },
      "source": [
        "res.summary()"
      ],
      "execution_count": 0,
      "outputs": []
    },
    {
      "cell_type": "code",
      "metadata": {
        "id": "r9Miba8Fqzbh",
        "colab_type": "code",
        "colab": {}
      },
      "source": [
        "plt.plot(ar_ma_data)\n",
        "plt.plot(res.fittedvalues)"
      ],
      "execution_count": 0,
      "outputs": []
    },
    {
      "cell_type": "code",
      "metadata": {
        "id": "gE_bOeCzqzbk",
        "colab_type": "code",
        "colab": {}
      },
      "source": [
        "res.k_ar"
      ],
      "execution_count": 0,
      "outputs": []
    },
    {
      "cell_type": "code",
      "metadata": {
        "id": "Z0n9nmRuqzbm",
        "colab_type": "code",
        "colab": {}
      },
      "source": [
        "res.k_ma"
      ],
      "execution_count": 0,
      "outputs": []
    },
    {
      "cell_type": "code",
      "metadata": {
        "id": "vNw4xFyJqzbp",
        "colab_type": "code",
        "colab": {}
      },
      "source": [
        "res.k_trend"
      ],
      "execution_count": 0,
      "outputs": []
    },
    {
      "cell_type": "code",
      "metadata": {
        "id": "-RxRZOdZqzbr",
        "colab_type": "code",
        "colab": {}
      },
      "source": [
        ""
      ],
      "execution_count": 0,
      "outputs": []
    }
  ]
}