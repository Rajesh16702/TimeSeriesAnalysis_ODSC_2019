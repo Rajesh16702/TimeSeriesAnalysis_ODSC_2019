{
  "nbformat": 4,
  "nbformat_minor": 0,
  "metadata": {
    "kernelspec": {
      "display_name": "Python 3",
      "language": "python",
      "name": "python3"
    },
    "language_info": {
      "codemirror_mode": {
        "name": "ipython",
        "version": 3
      },
      "file_extension": ".py",
      "mimetype": "text/x-python",
      "name": "python",
      "nbconvert_exporter": "python",
      "pygments_lexer": "ipython3",
      "version": "3.7.1"
    },
    "colab": {
      "name": "01. Time Series components.ipynb",
      "version": "0.3.2",
      "provenance": []
    }
  },
  "cells": [
    {
      "cell_type": "markdown",
      "metadata": {
        "id": "riHGQ2LjGf89",
        "colab_type": "text"
      },
      "source": [
        "## Imports"
      ]
    },
    {
      "cell_type": "code",
      "metadata": {
        "id": "e2z51lilGf8_",
        "colab_type": "code",
        "colab": {}
      },
      "source": [
        "import pandas as pd\n",
        "import numpy as np\n",
        "import matplotlib.pyplot as plt\n",
        "plt.rcParams[\"figure.figsize\"] = (20,8)"
      ],
      "execution_count": 0,
      "outputs": []
    },
    {
      "cell_type": "markdown",
      "metadata": {
        "id": "7Fl-lX7lGf9C",
        "colab_type": "text"
      },
      "source": [
        "## Some Theory to take care of"
      ]
    },
    {
      "cell_type": "markdown",
      "metadata": {
        "id": "Qaxs6TtsGf9C",
        "colab_type": "text"
      },
      "source": [
        "#### What is a white noise?\n",
        "    - No Correlation \n",
        "    - Unable to fit a model\n",
        "\n",
        "#### Need for a Forecasting\n",
        "\n",
        "#### Components of Time Series Analysis\n",
        "    - Trend\n",
        "    - Seasonality\n",
        "    - Additive vs Multiplicative\n",
        "    \n",
        "#### Residuals\n"
      ]
    },
    {
      "cell_type": "markdown",
      "metadata": {
        "id": "CcKsFjqYGf9D",
        "colab_type": "text"
      },
      "source": [
        "## Time Series Decomposition"
      ]
    },
    {
      "cell_type": "code",
      "metadata": {
        "id": "Jo5YDW_QGf9E",
        "colab_type": "code",
        "colab": {}
      },
      "source": [
        "colab_path = \"https://raw.githubusercontent.com/poornagurram/TimeSeriesAnalysis_ODSC_2019/master/\"\n",
        "df = pd.read_csv(colab_path+'data/AirPassengers.csv', parse_dates=True, index_col=0)"
      ],
      "execution_count": 0,
      "outputs": []
    },
    {
      "cell_type": "code",
      "metadata": {
        "id": "OCCXUzllGf9G",
        "colab_type": "code",
        "colab": {}
      },
      "source": [
        "df.plot()"
      ],
      "execution_count": 0,
      "outputs": []
    },
    {
      "cell_type": "code",
      "metadata": {
        "id": "UDTQE9FqGf9J",
        "colab_type": "code",
        "colab": {}
      },
      "source": [
        "df.head()"
      ],
      "execution_count": 0,
      "outputs": []
    },
    {
      "cell_type": "code",
      "metadata": {
        "id": "SoUPBxvQGf9M",
        "colab_type": "code",
        "colab": {}
      },
      "source": [
        "from statsmodels.tsa.seasonal import seasonal_decompose"
      ],
      "execution_count": 0,
      "outputs": []
    },
    {
      "cell_type": "code",
      "metadata": {
        "id": "CLrs9pY1Gf9P",
        "colab_type": "code",
        "colab": {}
      },
      "source": [
        "components = seasonal_decompose(df)"
      ],
      "execution_count": 0,
      "outputs": []
    },
    {
      "cell_type": "code",
      "metadata": {
        "id": "MIaSdYBXGf9R",
        "colab_type": "code",
        "colab": {}
      },
      "source": [
        "components.plot()"
      ],
      "execution_count": 0,
      "outputs": []
    },
    {
      "cell_type": "markdown",
      "metadata": {
        "id": "VjbYDqtaGf9T",
        "colab_type": "text"
      },
      "source": [
        "## Exercise"
      ]
    },
    {
      "cell_type": "markdown",
      "metadata": {
        "id": "defWuJihGf9U",
        "colab_type": "text"
      },
      "source": [
        "### Read the file 'data/daily_min_temperature.csv' and find out the time series components.\n",
        "\n",
        "1. The index does not have frequency set.  Set the frequency Hint: Use 'asfreq' method.\n",
        "2. There are some missing values.  Fill the missing values using 'bfill' method.  Hint: Use fillna method\n",
        "3. Perform decomposition"
      ]
    },
    {
      "cell_type": "markdown",
      "metadata": {
        "id": "8bB2103nM4A2",
        "colab_type": "text"
      },
      "source": [
        "## Exponential Smoothing"
      ]
    },
    {
      "cell_type": "code",
      "metadata": {
        "id": "A92qFwKQM7Zy",
        "colab_type": "code",
        "colab": {}
      },
      "source": [
        "from statsmodels.tsa.api import ExponentialSmoothing"
      ],
      "execution_count": 0,
      "outputs": []
    },
    {
      "cell_type": "code",
      "metadata": {
        "id": "DiqmNt52OT-v",
        "colab_type": "code",
        "colab": {}
      },
      "source": [
        "ExponentialSmoothing?"
      ],
      "execution_count": 0,
      "outputs": []
    },
    {
      "cell_type": "code",
      "metadata": {
        "id": "YGonaKD5NAM4",
        "colab_type": "code",
        "colab": {}
      },
      "source": [
        "model = ExponentialSmoothing(df['#Passengers'].values, \n",
        "                            trend='mul', \n",
        "                            damped=False,\n",
        "                            seasonal='add',\n",
        "                            seasonal_periods=12)"
      ],
      "execution_count": 0,
      "outputs": []
    },
    {
      "cell_type": "code",
      "metadata": {
        "id": "lPM1Gng5Odwe",
        "colab_type": "code",
        "colab": {}
      },
      "source": [
        "res = model.fit()"
      ],
      "execution_count": 0,
      "outputs": []
    },
    {
      "cell_type": "code",
      "metadata": {
        "id": "ZFGvmOtoPZe7",
        "colab_type": "code",
        "colab": {}
      },
      "source": [
        "res.params"
      ],
      "execution_count": 0,
      "outputs": []
    },
    {
      "cell_type": "code",
      "metadata": {
        "id": "eHldR55cPeh6",
        "colab_type": "code",
        "colab": {}
      },
      "source": [
        "res.forecast?"
      ],
      "execution_count": 0,
      "outputs": []
    },
    {
      "cell_type": "code",
      "metadata": {
        "id": "e613NQMWPiQj",
        "colab_type": "code",
        "colab": {}
      },
      "source": [
        "fc = res.forecast(60).astype(int)"
      ],
      "execution_count": 0,
      "outputs": []
    },
    {
      "cell_type": "code",
      "metadata": {
        "id": "jW8z4vEtPm2C",
        "colab_type": "code",
        "colab": {}
      },
      "source": [
        "data = list(df['#Passengers'].values)\n",
        "data.extend(fc)"
      ],
      "execution_count": 0,
      "outputs": []
    },
    {
      "cell_type": "code",
      "metadata": {
        "id": "ZVBQLZhDPs--",
        "colab_type": "code",
        "colab": {}
      },
      "source": [
        "df1 = pd.DataFrame(data)"
      ],
      "execution_count": 0,
      "outputs": []
    },
    {
      "cell_type": "code",
      "metadata": {
        "id": "zlHmOFfnPwHW",
        "colab_type": "code",
        "colab": {}
      },
      "source": [
        ""
      ],
      "execution_count": 0,
      "outputs": []
    }
  ]
}