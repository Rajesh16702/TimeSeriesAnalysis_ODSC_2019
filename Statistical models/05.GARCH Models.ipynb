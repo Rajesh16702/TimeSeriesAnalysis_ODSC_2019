{
 "cells": [
  {
   "cell_type": "code",
   "execution_count": 3,
   "metadata": {},
   "outputs": [],
   "source": [
    "import pandas as pd\n",
    "import numpy as np\n",
    "import matplotlib.pyplot as plt\n",
    "%matplotlib inline\n",
    "plt.rcParams[\"figure.figsize\"] = (20,8)\n",
    "import warnings\n",
    "warnings.filterwarnings(\"ignore\")"
   ]
  },
  {
   "cell_type": "code",
   "execution_count": 6,
   "metadata": {},
   "outputs": [
    {
     "name": "stdout",
     "output_type": "stream",
     "text": [
      "Iteration:      1,   Func. Count:     18,   Neg. LLF: 41.42285909902891\n",
      "Iteration:      2,   Func. Count:     37,   Neg. LLF: 38.58236083357411\n",
      "Iteration:      3,   Func. Count:     56,   Neg. LLF: 36.7085763087076\n",
      "Iteration:      4,   Func. Count:     75,   Neg. LLF: 35.643299535905854\n",
      "Iteration:      5,   Func. Count:     94,   Neg. LLF: 34.388550594271955\n",
      "Iteration:      6,   Func. Count:    113,   Neg. LLF: 31.60311898661349\n",
      "Iteration:      7,   Func. Count:    132,   Neg. LLF: 30.18000495649996\n",
      "Iteration:      8,   Func. Count:    150,   Neg. LLF: 28.719725017537705\n",
      "Iteration:      9,   Func. Count:    169,   Neg. LLF: 25.763847944272207\n",
      "Iteration:     10,   Func. Count:    189,   Neg. LLF: 25.732448288542905\n",
      "Iteration:     11,   Func. Count:    208,   Neg. LLF: 25.649898528907023\n",
      "Iteration:     12,   Func. Count:    227,   Neg. LLF: 25.56040027751436\n",
      "Iteration:     13,   Func. Count:    247,   Neg. LLF: 25.54655690937549\n",
      "Iteration:     14,   Func. Count:    266,   Neg. LLF: 25.488553258371216\n",
      "Iteration:     15,   Func. Count:    285,   Neg. LLF: 25.48475232631858\n",
      "Iteration:     16,   Func. Count:    304,   Neg. LLF: 25.483613686111653\n",
      "Iteration:     17,   Func. Count:    323,   Neg. LLF: 25.482930191941904\n",
      "Iteration:     18,   Func. Count:    341,   Neg. LLF: 25.482149457662004\n",
      "Iteration:     19,   Func. Count:    359,   Neg. LLF: 25.4806738167462\n",
      "Iteration:     20,   Func. Count:    377,   Neg. LLF: 25.47836298767856\n",
      "Iteration:     21,   Func. Count:    395,   Neg. LLF: 25.47763914473078\n",
      "Iteration:     22,   Func. Count:    413,   Neg. LLF: 25.477510590613605\n",
      "Iteration:     23,   Func. Count:    431,   Neg. LLF: 25.47750766818841\n",
      "Optimization terminated successfully.    (Exit mode 0)\n",
      "            Current function value: 25.477507701864816\n",
      "            Iterations: 23\n",
      "            Function evaluations: 431\n",
      "            Gradient evaluations: 23\n"
     ]
    },
    {
     "data": {
      "image/png": "[encoded data removed]",
      "text/plain": [
       "<Figure size 432x288 with 1 Axes>"
      ]
     },
     "metadata": {
      "needs_background": "light"
     },
     "output_type": "display_data"
    }
   ],
   "source": [
    "# example of ARCH model\n",
    "from random import gauss\n",
    "from random import seed\n",
    "from matplotlib import pyplot\n",
    "from arch import arch_model\n",
    "# seed pseudorandom number generator\n",
    "seed(1)\n",
    "# create dataset\n",
    "data = [gauss(0, i*0.01) for i in range(0,100)]\n",
    "# split into train/test\n",
    "n_test = 10\n",
    "train, test = data[:-n_test], data[-n_test:]\n",
    "# define model\n",
    "model = arch_model(train, mean='Zero', vol='ARCH', p=15)#, q=15)\n",
    "# fit model\n",
    "model_fit = model.fit()\n",
    "# forecast the test set\n",
    "yhat = model_fit.forecast(horizon=n_test)\n",
    "# plot the actual variance\n",
    "var = [i*0.01 for i in range(0,100)]\n",
    "pyplot.plot(var[-n_test:])\n",
    "# plot forecast variance\n",
    "pyplot.plot(yhat.variance.values[-1, :])\n",
    "pyplot.show()"
   ]
  },
  {
   "cell_type": "code",
   "execution_count": null,
   "metadata": {},
   "outputs": [],
   "source": []
  }
 ],
 "metadata": {
  "kernelspec": {
   "display_name": "Python 3",
   "language": "python",
   "name": "python3"
  },
  "language_info": {
   "codemirror_mode": {
    "name": "ipython",
    "version": 3
   },
   "file_extension": ".py",
   "mimetype": "text/x-python",
   "name": "python",
   "nbconvert_exporter": "python",
   "pygments_lexer": "ipython3",
   "version": "3.7.1"
  }
 },
 "nbformat": 4,
 "nbformat_minor": 2
}
