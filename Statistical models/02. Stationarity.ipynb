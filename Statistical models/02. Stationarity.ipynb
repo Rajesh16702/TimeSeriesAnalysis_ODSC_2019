{
  "nbformat": 4,
  "nbformat_minor": 0,
  "metadata": {
    "kernelspec": {
      "display_name": "Python 3",
      "language": "python",
      "name": "python3"
    },
    "language_info": {
      "codemirror_mode": {
        "name": "ipython",
        "version": 3
      },
      "file_extension": ".py",
      "mimetype": "text/x-python",
      "name": "python",
      "nbconvert_exporter": "python",
      "pygments_lexer": "ipython3",
      "version": "3.7.1"
    },
    "colab": {
      "name": "02. Stationarity.ipynb",
      "version": "0.3.2",
      "provenance": []
    }
  },
  "cells": [
    {
      "cell_type": "markdown",
      "metadata": {
        "id": "ggjzGxCwGhyt",
        "colab_type": "text"
      },
      "source": [
        "## Imports"
      ]
    },
    {
      "cell_type": "code",
      "metadata": {
        "id": "KCRNY4R3Ghyu",
        "colab_type": "code",
        "colab": {}
      },
      "source": [
        "import pandas as pd\n",
        "import numpy as np\n",
        "import matplotlib.pyplot as plt\n",
        "plt.rcParams[\"figure.figsize\"] = (20,8)\n",
        "colab_path = \"https://raw.githubusercontent.com/poornagurram/TimeSeriesAnalysis_ODSC_2019/master/\""
      ],
      "execution_count": 0,
      "outputs": []
    },
    {
      "cell_type": "markdown",
      "metadata": {
        "id": "JPBgkpOxGhyy",
        "colab_type": "text"
      },
      "source": [
        "## Stationarity"
      ]
    },
    {
      "cell_type": "markdown",
      "metadata": {
        "id": "_7NhORiSGhyz",
        "colab_type": "text"
      },
      "source": [
        "### Constant Mean,  variance, autocorr\n",
        "\n",
        "Y(t) = rho * Y(t-1) + epsilon\n",
        "\n",
        "Data is not stationary if rho == 1\n"
      ]
    },
    {
      "cell_type": "code",
      "metadata": {
        "id": "LvAIYob5Ghy1",
        "colab_type": "code",
        "colab": {}
      },
      "source": [
        "min_temp_df = pd.read_csv(colab_path+'data/daily_min_tempratures.csv', parse_dates=[0], index_col=0)\n",
        "min_temp_df['temp'] = min_temp_df['temp'].astype(float)"
      ],
      "execution_count": 0,
      "outputs": []
    },
    {
      "cell_type": "code",
      "metadata": {
        "id": "RytriVc-Ghy4",
        "colab_type": "code",
        "colab": {}
      },
      "source": [
        "min_temp_df[min_temp_df.temp.isna()]"
      ],
      "execution_count": 0,
      "outputs": []
    },
    {
      "cell_type": "code",
      "metadata": {
        "id": "euczIvV6Ghy8",
        "colab_type": "code",
        "colab": {}
      },
      "source": [
        "min_temp_df.head()"
      ],
      "execution_count": 0,
      "outputs": []
    },
    {
      "cell_type": "code",
      "metadata": {
        "id": "TwuOJAoVGhy-",
        "colab_type": "code",
        "colab": {}
      },
      "source": [
        "min_temp_df['roll_mean'] = min_temp_df['temp'].rolling(50).mean()\n",
        "min_temp_df['roll_std'] = min_temp_df['temp'].rolling(50).std()"
      ],
      "execution_count": 0,
      "outputs": []
    },
    {
      "cell_type": "code",
      "metadata": {
        "id": "PSEEHoPVGhzA",
        "colab_type": "code",
        "colab": {}
      },
      "source": [
        "min_temp_df.plot(figsize=(20,10))\n",
        "\n"
      ],
      "execution_count": 0,
      "outputs": []
    },
    {
      "cell_type": "code",
      "metadata": {
        "id": "Xb5GZcPGGhzC",
        "colab_type": "code",
        "colab": {}
      },
      "source": [
        "air_pass_df = pd.read_csv(colab_path+'data/AirPassengers.csv', parse_dates=[0], index_col=0)\n",
        "air_pass_df['#Passengers'].fillna(method='ffill', inplace=True)\n",
        "\n"
      ],
      "execution_count": 0,
      "outputs": []
    },
    {
      "cell_type": "code",
      "metadata": {
        "id": "tFuzq0eZGhzF",
        "colab_type": "code",
        "colab": {}
      },
      "source": [
        "air_pass_df.head()"
      ],
      "execution_count": 0,
      "outputs": []
    },
    {
      "cell_type": "code",
      "metadata": {
        "id": "D_3kWwm7GhzI",
        "colab_type": "code",
        "colab": {}
      },
      "source": [
        "air_pass_df.plot(figsize=(20,10))"
      ],
      "execution_count": 0,
      "outputs": []
    },
    {
      "cell_type": "markdown",
      "metadata": {
        "id": "YCXf7I9IGhzL",
        "colab_type": "text"
      },
      "source": [
        "## ADFuller test"
      ]
    },
    {
      "cell_type": "code",
      "metadata": {
        "id": "irQp4BgPGhzM",
        "colab_type": "code",
        "colab": {}
      },
      "source": [
        "from statsmodels.tsa.stattools import adfuller"
      ],
      "execution_count": 0,
      "outputs": []
    },
    {
      "cell_type": "code",
      "metadata": {
        "id": "WNj6E8fNGhzQ",
        "colab_type": "code",
        "colab": {}
      },
      "source": [
        "adfuller(min_temp_df['temp'])"
      ],
      "execution_count": 0,
      "outputs": []
    },
    {
      "cell_type": "code",
      "metadata": {
        "id": "9Cg-oigbGhzT",
        "colab_type": "code",
        "colab": {}
      },
      "source": [
        "adfuller(air_pass_df['#Passengers'])"
      ],
      "execution_count": 0,
      "outputs": []
    },
    {
      "cell_type": "markdown",
      "metadata": {
        "id": "XBIZgDdLGhzW",
        "colab_type": "text"
      },
      "source": [
        "## Detrend"
      ]
    },
    {
      "cell_type": "code",
      "metadata": {
        "id": "6I1cewpfGhzX",
        "colab_type": "code",
        "colab": {}
      },
      "source": [
        "sd = pd.read_csv(colab_path+'data/stock_data.csv', parse_dates=True, index_col=0)"
      ],
      "execution_count": 0,
      "outputs": []
    },
    {
      "cell_type": "code",
      "metadata": {
        "id": "_4mwpEkbGhzb",
        "colab_type": "code",
        "colab": {}
      },
      "source": [
        "sd['AAPL'].plot(figsize=(10,8))"
      ],
      "execution_count": 0,
      "outputs": []
    },
    {
      "cell_type": "code",
      "metadata": {
        "id": "bpqk4ELhGhzg",
        "colab_type": "code",
        "colab": {}
      },
      "source": [
        "sd['AAPL_d'] = sd['AAPL'].diff()"
      ],
      "execution_count": 0,
      "outputs": []
    },
    {
      "cell_type": "code",
      "metadata": {
        "id": "nrfaj4AmGhzk",
        "colab_type": "code",
        "colab": {}
      },
      "source": [
        "sd['AAPL_d'].plot(figsize=(10,8))"
      ],
      "execution_count": 0,
      "outputs": []
    },
    {
      "cell_type": "code",
      "metadata": {
        "id": "wRUVSocjGhzo",
        "colab_type": "code",
        "colab": {}
      },
      "source": [
        "adfuller(sd['AAPL_d'].dropna())"
      ],
      "execution_count": 0,
      "outputs": []
    },
    {
      "cell_type": "markdown",
      "metadata": {
        "id": "ehWY5e0WGhzr",
        "colab_type": "text"
      },
      "source": [
        "## Desasonalize"
      ]
    },
    {
      "cell_type": "code",
      "metadata": {
        "id": "Up8bJwYwGhzt",
        "colab_type": "code",
        "colab": {}
      },
      "source": [
        "min_temp_df['temp'].plot(figsize=(10,8))"
      ],
      "execution_count": 0,
      "outputs": []
    },
    {
      "cell_type": "code",
      "metadata": {
        "id": "PigSU4rtGhz0",
        "colab_type": "code",
        "colab": {}
      },
      "source": [
        "min_temp_df['temp'].diff(12).plot(figsize=(10,8))"
      ],
      "execution_count": 0,
      "outputs": []
    },
    {
      "cell_type": "code",
      "metadata": {
        "id": "0vas-gwjGhz9",
        "colab_type": "code",
        "colab": {}
      },
      "source": [
        "adfuller(min_temp_df['temp'].diff(12).dropna())"
      ],
      "execution_count": 0,
      "outputs": []
    },
    {
      "cell_type": "markdown",
      "metadata": {
        "id": "pjJsrmQbGh0B",
        "colab_type": "text"
      },
      "source": [
        "## Exercise\n",
        "\n",
        "Detrend & Deseasonalize Airpassengers data"
      ]
    },
    {
      "cell_type": "code",
      "metadata": {
        "id": "n6mY1VLZGh0C",
        "colab_type": "code",
        "colab": {}
      },
      "source": [
        "air_pass_df['#Passengers'].diff().diff(12).plot()"
      ],
      "execution_count": 0,
      "outputs": []
    },
    {
      "cell_type": "code",
      "metadata": {
        "id": "bbtkk4TUGh0F",
        "colab_type": "code",
        "colab": {}
      },
      "source": [
        "adfuller(air_pass_df['#Passengers'].diff().diff(12).dropna())"
      ],
      "execution_count": 0,
      "outputs": []
    },
    {
      "cell_type": "code",
      "metadata": {
        "id": "hpWM1AeuGh0H",
        "colab_type": "code",
        "colab": {}
      },
      "source": [
        ""
      ],
      "execution_count": 0,
      "outputs": []
    }
  ]
}