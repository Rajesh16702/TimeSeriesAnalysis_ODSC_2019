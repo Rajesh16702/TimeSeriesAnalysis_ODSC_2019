{
  "nbformat": 4,
  "nbformat_minor": 0,
  "metadata": {
    "kernelspec": {
      "display_name": "Python 3",
      "language": "python",
      "name": "python3"
    },
    "language_info": {
      "codemirror_mode": {
        "name": "ipython",
        "version": 3
      },
      "file_extension": ".py",
      "mimetype": "text/x-python",
      "name": "python",
      "nbconvert_exporter": "python",
      "pygments_lexer": "ipython3",
      "version": "3.7.1"
    },
    "colab": {
      "name": "01.Financial Time Series Analysis.ipynb",
      "version": "0.3.2",
      "provenance": []
    }
  },
  "cells": [
    {
      "cell_type": "markdown",
      "metadata": {
        "id": "uqgDqJ64GevB",
        "colab_type": "text"
      },
      "source": [
        "## Imports"
      ]
    },
    {
      "cell_type": "code",
      "metadata": {
        "id": "V7qlTXfFGevD",
        "colab_type": "code",
        "colab": {}
      },
      "source": [
        "import math\n",
        "import numpy as np\n",
        "import pandas as pd\n",
        "from pylab import plt\n",
        "\n",
        "plt.style.use('seaborn')\n",
        "%matplotlib inline"
      ],
      "execution_count": 0,
      "outputs": []
    },
    {
      "cell_type": "markdown",
      "metadata": {
        "id": "qiER5T0sGevI",
        "colab_type": "text"
      },
      "source": [
        "## Data Preprocessing"
      ]
    },
    {
      "cell_type": "code",
      "metadata": {
        "id": "gRqcgvlLGevJ",
        "colab_type": "code",
        "colab": {}
      },
      "source": [
        "%%time\n",
        "colab_path = \"https://github.com/poornagurram/TimeSeriesAnalysis_ODSC_2019/blob/master/\"\n",
        "df = pd.read_csv(colab_path+'data/yesbank_data.csv', index_col=0, parse_dates=True)"
      ],
      "execution_count": 0,
      "outputs": []
    },
    {
      "cell_type": "code",
      "metadata": {
        "id": "eYot4tJJGevO",
        "colab_type": "code",
        "colab": {}
      },
      "source": [
        "df.rename(columns={'close': 'c', 'open':'o', 'high':'h', 'low':'l', 'volume':'v'}, inplace=True)"
      ],
      "execution_count": 0,
      "outputs": []
    },
    {
      "cell_type": "code",
      "metadata": {
        "id": "3ab7Q9DLGevS",
        "colab_type": "code",
        "colab": {}
      },
      "source": [
        "df.head()"
      ],
      "execution_count": 0,
      "outputs": []
    },
    {
      "cell_type": "code",
      "metadata": {
        "id": "EkMzXxSZGevV",
        "colab_type": "code",
        "colab": {}
      },
      "source": [
        "df['c'].plot()"
      ],
      "execution_count": 0,
      "outputs": []
    },
    {
      "cell_type": "markdown",
      "metadata": {
        "id": "do7ljwgkGevY",
        "colab_type": "text"
      },
      "source": [
        "## Implementing a simple crossover strategy"
      ]
    },
    {
      "cell_type": "code",
      "metadata": {
        "id": "HQjXYvTLGeva",
        "colab_type": "code",
        "colab": {}
      },
      "source": [
        "df['r'] = np.log(df['c'] / df['c'].shift(1))\n",
        "df['sma1'] = df['c'].rolling(15).mean()\n",
        "df['sma2'] = df['c'].rolling(30).mean()\n",
        "df['sma3'] = df['c'].rolling(60).mean()"
      ],
      "execution_count": 0,
      "outputs": []
    },
    {
      "cell_type": "code",
      "metadata": {
        "id": "pnXo5aOsGeve",
        "colab_type": "code",
        "colab": {}
      },
      "source": [
        "df.dropna(inplace=True)"
      ],
      "execution_count": 0,
      "outputs": []
    },
    {
      "cell_type": "code",
      "metadata": {
        "id": "ysBgZsT2Gevi",
        "colab_type": "code",
        "colab": {}
      },
      "source": [
        "df['market_dir'] = np.where(df['r'] > 0, 1, -1)"
      ],
      "execution_count": 0,
      "outputs": []
    },
    {
      "cell_type": "code",
      "metadata": {
        "id": "15OEulyTGevm",
        "colab_type": "code",
        "colab": {}
      },
      "source": [
        "df['strat_dir'] = np.where(df['sma1'] > df['sma3'], 1, -1)"
      ],
      "execution_count": 0,
      "outputs": []
    },
    {
      "cell_type": "code",
      "metadata": {
        "id": "-Fv5cyBbGevp",
        "colab_type": "code",
        "colab": {}
      },
      "source": [
        "df.head(10)"
      ],
      "execution_count": 0,
      "outputs": []
    },
    {
      "cell_type": "code",
      "metadata": {
        "id": "G3JT2IadGevu",
        "colab_type": "code",
        "colab": {}
      },
      "source": [
        "df['strat_dir'].diff().value_counts()"
      ],
      "execution_count": 0,
      "outputs": []
    },
    {
      "cell_type": "code",
      "metadata": {
        "id": "nNsN3QDeGev0",
        "colab_type": "code",
        "colab": {}
      },
      "source": [
        "df['s'] = df['strat_dir'] * df['r']"
      ],
      "execution_count": 0,
      "outputs": []
    },
    {
      "cell_type": "code",
      "metadata": {
        "id": "TTkhLu3hGev4",
        "colab_type": "code",
        "colab": {}
      },
      "source": [
        "df[['r', 's']].cumsum().apply(np.exp).plot(figsize=(10, 10));"
      ],
      "execution_count": 0,
      "outputs": []
    },
    {
      "cell_type": "markdown",
      "metadata": {
        "id": "TpPHBq0BGev6",
        "colab_type": "text"
      },
      "source": [
        "## Add a machine learning model and perform accuracy testing"
      ]
    },
    {
      "cell_type": "code",
      "metadata": {
        "id": "XWZ3Kyk5Gev8",
        "colab_type": "code",
        "colab": {}
      },
      "source": [
        "from sklearn.linear_model import LogisticRegression\n",
        "from sklearn.metrics import accuracy_score"
      ],
      "execution_count": 0,
      "outputs": []
    },
    {
      "cell_type": "code",
      "metadata": {
        "id": "xPFqYhcrGewB",
        "colab_type": "code",
        "colab": {}
      },
      "source": [
        "mdf = df.copy()"
      ],
      "execution_count": 0,
      "outputs": []
    },
    {
      "cell_type": "code",
      "metadata": {
        "id": "K1ShkwN4GewE",
        "colab_type": "code",
        "colab": {}
      },
      "source": [
        "for i in range(1,6):\n",
        "     mdf[f'lag_{i}'] = mdf['market_dir'].shift(i)"
      ],
      "execution_count": 0,
      "outputs": []
    },
    {
      "cell_type": "code",
      "metadata": {
        "id": "eKFawK2jGewH",
        "colab_type": "code",
        "colab": {}
      },
      "source": [
        "mdf.dropna(inplace=True)\n",
        "mdf.head()"
      ],
      "execution_count": 0,
      "outputs": []
    },
    {
      "cell_type": "code",
      "metadata": {
        "id": "zMYT9E6UGewJ",
        "colab_type": "code",
        "colab": {}
      },
      "source": [
        "X = mdf[['lag_1','lag_2', 'lag_3', 'lag_4','lag_5']]"
      ],
      "execution_count": 0,
      "outputs": []
    },
    {
      "cell_type": "code",
      "metadata": {
        "id": "bGTqJVD3GewM",
        "colab_type": "code",
        "colab": {}
      },
      "source": [
        "y = mdf['market_dir']"
      ],
      "execution_count": 0,
      "outputs": []
    },
    {
      "cell_type": "code",
      "metadata": {
        "id": "v6Nt5G6wGewQ",
        "colab_type": "code",
        "colab": {}
      },
      "source": [
        "X_train = X[:500]\n",
        "X_test = X[500:]\n",
        "y_train = y[:500]\n",
        "y_test = y[500:]"
      ],
      "execution_count": 0,
      "outputs": []
    },
    {
      "cell_type": "code",
      "metadata": {
        "id": "QcLdo1KpGewU",
        "colab_type": "code",
        "colab": {}
      },
      "source": [
        "classifier = LogisticRegression()"
      ],
      "execution_count": 0,
      "outputs": []
    },
    {
      "cell_type": "code",
      "metadata": {
        "id": "qcCSy8ksGewX",
        "colab_type": "code",
        "colab": {}
      },
      "source": [
        "from sklearn.svm import SVC\n",
        "classifier = SVC(kernel='linear')"
      ],
      "execution_count": 0,
      "outputs": []
    },
    {
      "cell_type": "code",
      "metadata": {
        "id": "FUOeiiNzGewZ",
        "colab_type": "code",
        "colab": {}
      },
      "source": [
        "classifier.fit(X_train,y_train)"
      ],
      "execution_count": 0,
      "outputs": []
    },
    {
      "cell_type": "markdown",
      "metadata": {
        "id": "2G5Nx8g2Gewc",
        "colab_type": "text"
      },
      "source": [
        "## In Sample testing"
      ]
    },
    {
      "cell_type": "code",
      "metadata": {
        "id": "xez0UptIGewd",
        "colab_type": "code",
        "colab": {}
      },
      "source": [
        "y_pred = classifier.predict(X_train)\n",
        "accuracy_score(y_pred, y_train)"
      ],
      "execution_count": 0,
      "outputs": []
    },
    {
      "cell_type": "markdown",
      "metadata": {
        "id": "3RnPjrjpGewg",
        "colab_type": "text"
      },
      "source": [
        "## Holdout Testing"
      ]
    },
    {
      "cell_type": "code",
      "metadata": {
        "id": "1kseIkV4Gewh",
        "colab_type": "code",
        "colab": {}
      },
      "source": [
        "y_pred = classifier.predict(X_test)\n",
        "accuracy_score(y_test,y_pred)"
      ],
      "execution_count": 0,
      "outputs": []
    },
    {
      "cell_type": "code",
      "metadata": {
        "id": "3L55wa-rGewk",
        "colab_type": "code",
        "colab": {}
      },
      "source": [
        ""
      ],
      "execution_count": 0,
      "outputs": []
    }
  ]
}