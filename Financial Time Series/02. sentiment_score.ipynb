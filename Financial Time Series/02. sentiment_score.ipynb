{
 "cells": [
  {
   "cell_type": "code",
   "execution_count": 1,
   "metadata": {},
   "outputs": [],
   "source": [
    "import json\n",
    "import requests\n",
    "import pandas as pd\n",
    "pd.options.display.max_colwidth = 1000"
   ]
  },
  {
   "cell_type": "code",
   "execution_count": 2,
   "metadata": {},
   "outputs": [],
   "source": [
    "response = requests.get(\"https://api.bseindia.com/BseIndiaAPI/api/AnnGetData/w?strCat=-1&strPrevDate=20190730&strScrip=&strSearch=P&strToDate=20190730&strType=C\")"
   ]
  },
  {
   "cell_type": "code",
   "execution_count": 3,
   "metadata": {},
   "outputs": [],
   "source": [
    "bse_news_json = json.loads(response.text)"
   ]
  },
  {
   "cell_type": "code",
   "execution_count": 8,
   "metadata": {},
   "outputs": [
    {
     "name": "stdout",
     "output_type": "stream",
     "text": [
      "WARNING:tensorflow:From /miniconda3/lib/python3.7/site-packages/tensorflow/python/framework/op_def_library.py:263: colocate_with (from tensorflow.python.framework.ops) is deprecated and will be removed in a future version.\n",
      "Instructions for updating:\n",
      "Colocations handled automatically by placer.\n",
      "WARNING:tensorflow:From /Users/ram/OneDrive/Talks/scipy/generating-reviews-discovering-sentiment/encoder.py:59: calling l2_normalize (from tensorflow.python.ops.nn_impl) with dim is deprecated and will be removed in a future version.\n",
      "Instructions for updating:\n",
      "dim is deprecated, use axis instead\n"
     ]
    }
   ],
   "source": [
    "from encoder import Model\n",
    "\n",
    "model = Model()"
   ]
  },
  {
   "cell_type": "code",
   "execution_count": 9,
   "metadata": {},
   "outputs": [],
   "source": [
    "import re\n",
    "def clean_headline(headline):\n",
    "    return ' '.join(re.sub(\"(@[A-Za-z0-9]+)|([^0-9A-Za-z \\t])|(\\w+:\\/\\/\\S+)|[0-9]\", \" \", headline).split())"
   ]
  },
  {
   "cell_type": "markdown",
   "metadata": {},
   "source": [
    "reference: https://modeldepot.io/afowler/sentiment-neuron"
   ]
  },
  {
   "cell_type": "code",
   "execution_count": 21,
   "metadata": {},
   "outputs": [],
   "source": [
    "ccd_news = [clean_headline(news['HEADLINE']) for news in bse_news_json['Table'] if 'Siddhartha' in news['HEADLINE']]"
   ]
  },
  {
   "cell_type": "code",
   "execution_count": 22,
   "metadata": {},
   "outputs": [
    {
     "name": "stdout",
     "output_type": "stream",
     "text": [
      "16.797 seconds to transform 5 examples\n",
      "-0.14523332\n"
     ]
    }
   ],
   "source": [
    "text_features = model.transform(ccd_news)\n",
    "print(text_features[:,2388][0])"
   ]
  },
  {
   "cell_type": "code",
   "execution_count": 33,
   "metadata": {},
   "outputs": [
    {
     "data": {
      "text/html": [
       "<div>\n",
       "<style scoped>\n",
       "    .dataframe tbody tr th:only-of-type {\n",
       "        vertical-align: middle;\n",
       "    }\n",
       "\n",
       "    .dataframe tbody tr th {\n",
       "        vertical-align: top;\n",
       "    }\n",
       "\n",
       "    .dataframe thead th {\n",
       "        text-align: right;\n",
       "    }\n",
       "</style>\n",
       "<table border=\"1\" class=\"dataframe\">\n",
       "  <thead>\n",
       "    <tr style=\"text-align: right;\">\n",
       "      <th></th>\n",
       "      <th>0</th>\n",
       "      <th>1</th>\n",
       "    </tr>\n",
       "  </thead>\n",
       "  <tbody>\n",
       "    <tr>\n",
       "      <th>0</th>\n",
       "      <td>0.009919</td>\n",
       "      <td>This is to inform you that Mr V G Siddhartha Chairman and Managing Director of Coffee Day Enterprises Limited has not reachable since yesterday evening We are taking the help of concerned authorities Company is professionally managed and led by competent leadership team which will ensure continuity of business BR BR We will keep you posted as and when we receive further updates BR</td>\n",
       "    </tr>\n",
       "    <tr>\n",
       "      <th>1</th>\n",
       "      <td>-0.068979</td>\n",
       "      <td>The board of directors of the company held an emergency meeting today to discuss developments following its earlier communication to the stock exchanges BR BR A press release is attached Also attached is a copy of the letter purportedly signed by Mr V G Siddhartha dated July BR BR This is for your information and records BR</td>\n",
       "    </tr>\n",
       "    <tr>\n",
       "      <th>2</th>\n",
       "      <td>-0.102269</td>\n",
       "      <td>The Exchange has sought clarification from Sical Logistics Ltd on July with reference to news appeared in www moneycontrol com dated July quoting VG Siddhartha missing Helicopters Coast Guard called to find Cafe Coffee Day founder BR BR The reply is awaited</td>\n",
       "    </tr>\n",
       "    <tr>\n",
       "      <th>3</th>\n",
       "      <td>-0.145233</td>\n",
       "      <td>The Exchange has sought clarification from Coffee Day Enterprises Ltd with reference to the media reports titled Authenticity of Siddhartha s last note doubtful claims I T source BR BR Link Day Enterprises Ltd response is awaited</td>\n",
       "    </tr>\n",
       "    <tr>\n",
       "      <th>4</th>\n",
       "      <td>-0.353844</td>\n",
       "      <td>Certain media reports have published a document purportedly written by Mr V G Siddhartha and which is addressed to the Board and Employees of Coffee Data Enterprises However it has been observed that the Company has not disclosed the same with the Exchange BR BR In this regard a clarification has been sought from Coffee Day Enterprises Ltd with regard to non disclosure of material information related to Mr V G Siddhartha who is reportedly missing Company response is awaited</td>\n",
       "    </tr>\n",
       "  </tbody>\n",
       "</table>\n",
       "</div>"
      ],
      "text/plain": [
       "          0  \\\n",
       "0  0.009919   \n",
       "1 -0.068979   \n",
       "2 -0.102269   \n",
       "3 -0.145233   \n",
       "4 -0.353844   \n",
       "\n",
       "                                                                                                                                                                                                                                                                                                                                                                                                                                                                                                1  \n",
       "0                                                                                                 This is to inform you that Mr V G Siddhartha Chairman and Managing Director of Coffee Day Enterprises Limited has not reachable since yesterday evening We are taking the help of concerned authorities Company is professionally managed and led by competent leadership team which will ensure continuity of business BR BR We will keep you posted as and when we receive further updates BR  \n",
       "1                                                                                                                                                           The board of directors of the company held an emergency meeting today to discuss developments following its earlier communication to the stock exchanges BR BR A press release is attached Also attached is a copy of the letter purportedly signed by Mr V G Siddhartha dated July BR BR This is for your information and records BR  \n",
       "2                                                                                                                                                                                                                               The Exchange has sought clarification from Sical Logistics Ltd on July with reference to news appeared in www moneycontrol com dated July quoting VG Siddhartha missing Helicopters Coast Guard called to find Cafe Coffee Day founder BR BR The reply is awaited  \n",
       "3                                                                                                                                                                                                                                                           The Exchange has sought clarification from Coffee Day Enterprises Ltd with reference to the media reports titled Authenticity of Siddhartha s last note doubtful claims I T source BR BR Link Day Enterprises Ltd response is awaited  \n",
       "4  Certain media reports have published a document purportedly written by Mr V G Siddhartha and which is addressed to the Board and Employees of Coffee Data Enterprises However it has been observed that the Company has not disclosed the same with the Exchange BR BR In this regard a clarification has been sought from Coffee Day Enterprises Ltd with regard to non disclosure of material information related to Mr V G Siddhartha who is reportedly missing Company response is awaited  "
      ]
     },
     "execution_count": 33,
     "metadata": {},
     "output_type": "execute_result"
    }
   ],
   "source": [
    "pd.DataFrame(set(zip(text_features[:,2388], ccd_news)))"
   ]
  },
  {
   "cell_type": "code",
   "execution_count": null,
   "metadata": {},
   "outputs": [],
   "source": []
  }
 ],
 "metadata": {
  "kernelspec": {
   "display_name": "Python 3",
   "language": "python",
   "name": "python3"
  },
  "language_info": {
   "codemirror_mode": {
    "name": "ipython",
    "version": 3
   },
   "file_extension": ".py",
   "mimetype": "text/x-python",
   "name": "python",
   "nbconvert_exporter": "python",
   "pygments_lexer": "ipython3",
   "version": "3.6.1"
  }
 },
 "nbformat": 4,
 "nbformat_minor": 2
}
